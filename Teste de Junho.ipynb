{
 "cells": [
  {
   "cell_type": "code",
   "execution_count": 1,
   "metadata": {},
   "outputs": [],
   "source": [
    "import pandas as pd"
   ]
  },
  {
   "cell_type": "code",
   "execution_count": 2,
   "metadata": {},
   "outputs": [],
   "source": [
    "base_colab = pd.read_excel('Base dados colaboradores.xlsx')\n",
    "relat_ponto = pd.read_excel('Relatorio_horas_diarias.xlsx')\n",
    "logs_emails =  pd.read_excel('logs_base.xlsx')\n"
   ]
  },
  {
   "cell_type": "code",
   "execution_count": 3,
   "metadata": {},
   "outputs": [
    {
     "data": {
      "text/html": [
       "<div>\n",
       "<style scoped>\n",
       "    .dataframe tbody tr th:only-of-type {\n",
       "        vertical-align: middle;\n",
       "    }\n",
       "\n",
       "    .dataframe tbody tr th {\n",
       "        vertical-align: top;\n",
       "    }\n",
       "\n",
       "    .dataframe thead th {\n",
       "        text-align: right;\n",
       "    }\n",
       "</style>\n",
       "<table border=\"1\" class=\"dataframe\">\n",
       "  <thead>\n",
       "    <tr style=\"text-align: right;\">\n",
       "      <th></th>\n",
       "      <th>origin_timestamp_utc</th>\n",
       "      <th>hora</th>\n",
       "      <th>sender_address</th>\n",
       "      <th>recipient_status</th>\n",
       "      <th>message_subject</th>\n",
       "      <th>total_bytes</th>\n",
       "      <th>message_id</th>\n",
       "      <th>network_message_id</th>\n",
       "    </tr>\n",
       "  </thead>\n",
       "  <tbody>\n",
       "    <tr>\n",
       "      <th>0</th>\n",
       "      <td>2021-06-03</td>\n",
       "      <td>23:59:49</td>\n",
       "      <td>hdesk.banco@bancofibra.com.br</td>\n",
       "      <td>milena.bispo@terceiro.bancofibra.com.br##Deliver</td>\n",
       "      <td>NaN</td>\n",
       "      <td>NaN</td>\n",
       "      <td>NaN</td>\n",
       "      <td>NaN</td>\n",
       "    </tr>\n",
       "    <tr>\n",
       "      <th>1</th>\n",
       "      <td>2021-06-14</td>\n",
       "      <td>23:59:49</td>\n",
       "      <td>william.dasilva@bancofibra.com.br</td>\n",
       "      <td>william.dasilva@bancofibra.com.br##Receive, De...</td>\n",
       "      <td>Plano de Ação Carbonext</td>\n",
       "      <td>45611.0</td>\n",
       "      <td>&lt;FR1P15201MB2327D11DCD2FE796C59A785BA5319@FR1P...</td>\n",
       "      <td>f431ad81-07a4-41bc-00b0-08d92ee0795c</td>\n",
       "    </tr>\n",
       "    <tr>\n",
       "      <th>2</th>\n",
       "      <td>2021-06-08</td>\n",
       "      <td>23:59:30</td>\n",
       "      <td>luis.blas@bancofibra.com.br</td>\n",
       "      <td>john.oliveira@bancofibra.com.br##Receive, Deliver</td>\n",
       "      <td>NaN</td>\n",
       "      <td>NaN</td>\n",
       "      <td>NaN</td>\n",
       "      <td>NaN</td>\n",
       "    </tr>\n",
       "    <tr>\n",
       "      <th>3</th>\n",
       "      <td>2021-06-07</td>\n",
       "      <td>23:59:29</td>\n",
       "      <td>dynatrace@bancofibra.com.br</td>\n",
       "      <td>raphael.geronimo@terceiro.bancofibra.com.br##D...</td>\n",
       "      <td>NaN</td>\n",
       "      <td>NaN</td>\n",
       "      <td>NaN</td>\n",
       "      <td>NaN</td>\n",
       "    </tr>\n",
       "    <tr>\n",
       "      <th>4</th>\n",
       "      <td>2021-06-08</td>\n",
       "      <td>23:59:29</td>\n",
       "      <td>luis.blas@bancofibra.com.br</td>\n",
       "      <td>john.oliveira@bancofibra.com.br##Receive, Deliver</td>\n",
       "      <td>NaN</td>\n",
       "      <td>NaN</td>\n",
       "      <td>NaN</td>\n",
       "      <td>NaN</td>\n",
       "    </tr>\n",
       "  </tbody>\n",
       "</table>\n",
       "</div>"
      ],
      "text/plain": [
       "  origin_timestamp_utc      hora                     sender_address  \\\n",
       "0           2021-06-03  23:59:49      hdesk.banco@bancofibra.com.br   \n",
       "1           2021-06-14  23:59:49  william.dasilva@bancofibra.com.br   \n",
       "2           2021-06-08  23:59:30        luis.blas@bancofibra.com.br   \n",
       "3           2021-06-07  23:59:29        dynatrace@bancofibra.com.br   \n",
       "4           2021-06-08  23:59:29        luis.blas@bancofibra.com.br   \n",
       "\n",
       "                                    recipient_status          message_subject  \\\n",
       "0   milena.bispo@terceiro.bancofibra.com.br##Deliver                      NaN   \n",
       "1  william.dasilva@bancofibra.com.br##Receive, De...  Plano de Ação Carbonext   \n",
       "2  john.oliveira@bancofibra.com.br##Receive, Deliver                      NaN   \n",
       "3  raphael.geronimo@terceiro.bancofibra.com.br##D...                      NaN   \n",
       "4  john.oliveira@bancofibra.com.br##Receive, Deliver                      NaN   \n",
       "\n",
       "   total_bytes                                         message_id  \\\n",
       "0          NaN                                                NaN   \n",
       "1      45611.0  <FR1P15201MB2327D11DCD2FE796C59A785BA5319@FR1P...   \n",
       "2          NaN                                                NaN   \n",
       "3          NaN                                                NaN   \n",
       "4          NaN                                                NaN   \n",
       "\n",
       "                     network_message_id  \n",
       "0                                   NaN  \n",
       "1  f431ad81-07a4-41bc-00b0-08d92ee0795c  \n",
       "2                                   NaN  \n",
       "3                                   NaN  \n",
       "4                                   NaN  "
      ]
     },
     "execution_count": 3,
     "metadata": {},
     "output_type": "execute_result"
    }
   ],
   "source": [
    "logs_emails.head()"
   ]
  },
  {
   "cell_type": "code",
   "execution_count": 4,
   "metadata": {},
   "outputs": [
    {
     "data": {
      "text/html": [
       "<div>\n",
       "<style scoped>\n",
       "    .dataframe tbody tr th:only-of-type {\n",
       "        vertical-align: middle;\n",
       "    }\n",
       "\n",
       "    .dataframe tbody tr th {\n",
       "        vertical-align: top;\n",
       "    }\n",
       "\n",
       "    .dataframe thead th {\n",
       "        text-align: right;\n",
       "    }\n",
       "</style>\n",
       "<table border=\"1\" class=\"dataframe\">\n",
       "  <thead>\n",
       "    <tr style=\"text-align: right;\">\n",
       "      <th></th>\n",
       "      <th>Id Empresa</th>\n",
       "      <th>Desc Empresa</th>\n",
       "      <th>Id Local</th>\n",
       "      <th>Desc Local</th>\n",
       "      <th>Id Folha</th>\n",
       "      <th>Desc Folha</th>\n",
       "      <th>Id Hirarquia</th>\n",
       "      <th>Desc Hierarquia</th>\n",
       "      <th>Id_Gestor</th>\n",
       "      <th>Nome_Gestor</th>\n",
       "      <th>...</th>\n",
       "      <th>Previsto.1</th>\n",
       "      <th>Realizado.1</th>\n",
       "      <th>Id Evento.1</th>\n",
       "      <th>Desc Evento.1</th>\n",
       "      <th>Quantidade Valor.1</th>\n",
       "      <th>Quantidade Hora.1</th>\n",
       "      <th>Id Tipo Dia</th>\n",
       "      <th>Desc Tipo Dia</th>\n",
       "      <th>Id Tipo Ocorrência</th>\n",
       "      <th>Desc Tipo Ocorrência</th>\n",
       "    </tr>\n",
       "  </thead>\n",
       "  <tbody>\n",
       "    <tr>\n",
       "      <th>0</th>\n",
       "      <td>1</td>\n",
       "      <td>BANCO FIBRA SA</td>\n",
       "      <td>1</td>\n",
       "      <td>BANCO FIBRA SA</td>\n",
       "      <td>11</td>\n",
       "      <td>Mensalistas</td>\n",
       "      <td>7</td>\n",
       "      <td>SECRETARIAS</td>\n",
       "      <td>3878</td>\n",
       "      <td>ARNO SCHWARZ</td>\n",
       "      <td>...</td>\n",
       "      <td>08:30 17:30</td>\n",
       "      <td>08:20 13:00 14:00 18:56</td>\n",
       "      <td>46</td>\n",
       "      <td>Horas Excedentes (Saída)</td>\n",
       "      <td>1.433333</td>\n",
       "      <td>01:26</td>\n",
       "      <td>1</td>\n",
       "      <td>Dia Normal de Trabalho</td>\n",
       "      <td>0</td>\n",
       "      <td>Não Necessita Ação</td>\n",
       "    </tr>\n",
       "    <tr>\n",
       "      <th>1</th>\n",
       "      <td>1</td>\n",
       "      <td>BANCO FIBRA SA</td>\n",
       "      <td>1</td>\n",
       "      <td>BANCO FIBRA SA</td>\n",
       "      <td>11</td>\n",
       "      <td>Mensalistas</td>\n",
       "      <td>7</td>\n",
       "      <td>SECRETARIAS</td>\n",
       "      <td>3878</td>\n",
       "      <td>ARNO SCHWARZ</td>\n",
       "      <td>...</td>\n",
       "      <td>08:30 17:30</td>\n",
       "      <td>08:15 13:12 14:15 18:56</td>\n",
       "      <td>46</td>\n",
       "      <td>Horas Excedentes (Saída)</td>\n",
       "      <td>1.433333</td>\n",
       "      <td>01:26</td>\n",
       "      <td>1</td>\n",
       "      <td>Dia Normal de Trabalho</td>\n",
       "      <td>0</td>\n",
       "      <td>Não Necessita Ação</td>\n",
       "    </tr>\n",
       "    <tr>\n",
       "      <th>2</th>\n",
       "      <td>1</td>\n",
       "      <td>BANCO FIBRA SA</td>\n",
       "      <td>1</td>\n",
       "      <td>BANCO FIBRA SA</td>\n",
       "      <td>11</td>\n",
       "      <td>Mensalistas</td>\n",
       "      <td>7</td>\n",
       "      <td>SECRETARIAS</td>\n",
       "      <td>3878</td>\n",
       "      <td>ARNO SCHWARZ</td>\n",
       "      <td>...</td>\n",
       "      <td>08:30 17:30</td>\n",
       "      <td>09:45 13:13 14:13 18:00</td>\n",
       "      <td>46</td>\n",
       "      <td>Horas Excedentes (Saída)</td>\n",
       "      <td>0.500000</td>\n",
       "      <td>00:30</td>\n",
       "      <td>1</td>\n",
       "      <td>Dia Normal de Trabalho</td>\n",
       "      <td>0</td>\n",
       "      <td>Não Necessita Ação</td>\n",
       "    </tr>\n",
       "    <tr>\n",
       "      <th>3</th>\n",
       "      <td>1</td>\n",
       "      <td>BANCO FIBRA SA</td>\n",
       "      <td>1</td>\n",
       "      <td>BANCO FIBRA SA</td>\n",
       "      <td>11</td>\n",
       "      <td>Mensalistas</td>\n",
       "      <td>7</td>\n",
       "      <td>SECRETARIAS</td>\n",
       "      <td>3878</td>\n",
       "      <td>ARNO SCHWARZ</td>\n",
       "      <td>...</td>\n",
       "      <td>08:30 17:30</td>\n",
       "      <td>09:46 13:25 14:25 17:47</td>\n",
       "      <td>46</td>\n",
       "      <td>Horas Excedentes (Saída)</td>\n",
       "      <td>0.283333</td>\n",
       "      <td>00:17</td>\n",
       "      <td>1</td>\n",
       "      <td>Dia Normal de Trabalho</td>\n",
       "      <td>0</td>\n",
       "      <td>Não Necessita Ação</td>\n",
       "    </tr>\n",
       "    <tr>\n",
       "      <th>4</th>\n",
       "      <td>1</td>\n",
       "      <td>BANCO FIBRA SA</td>\n",
       "      <td>1</td>\n",
       "      <td>BANCO FIBRA SA</td>\n",
       "      <td>11</td>\n",
       "      <td>Mensalistas</td>\n",
       "      <td>7</td>\n",
       "      <td>SECRETARIAS</td>\n",
       "      <td>3878</td>\n",
       "      <td>ARNO SCHWARZ</td>\n",
       "      <td>...</td>\n",
       "      <td>08:30 17:30</td>\n",
       "      <td>08:16 13:04 14:05 18:14</td>\n",
       "      <td>46</td>\n",
       "      <td>Horas Excedentes (Saída)</td>\n",
       "      <td>0.733333</td>\n",
       "      <td>00:44</td>\n",
       "      <td>1</td>\n",
       "      <td>Dia Normal de Trabalho</td>\n",
       "      <td>0</td>\n",
       "      <td>Não Necessita Ação</td>\n",
       "    </tr>\n",
       "  </tbody>\n",
       "</table>\n",
       "<p>5 rows × 39 columns</p>\n",
       "</div>"
      ],
      "text/plain": [
       "   Id Empresa    Desc Empresa  Id Local      Desc Local  Id Folha  \\\n",
       "0           1  BANCO FIBRA SA         1  BANCO FIBRA SA        11   \n",
       "1           1  BANCO FIBRA SA         1  BANCO FIBRA SA        11   \n",
       "2           1  BANCO FIBRA SA         1  BANCO FIBRA SA        11   \n",
       "3           1  BANCO FIBRA SA         1  BANCO FIBRA SA        11   \n",
       "4           1  BANCO FIBRA SA         1  BANCO FIBRA SA        11   \n",
       "\n",
       "    Desc Folha  Id Hirarquia Desc Hierarquia  Id_Gestor   Nome_Gestor  ...  \\\n",
       "0  Mensalistas             7     SECRETARIAS       3878  ARNO SCHWARZ  ...   \n",
       "1  Mensalistas             7     SECRETARIAS       3878  ARNO SCHWARZ  ...   \n",
       "2  Mensalistas             7     SECRETARIAS       3878  ARNO SCHWARZ  ...   \n",
       "3  Mensalistas             7     SECRETARIAS       3878  ARNO SCHWARZ  ...   \n",
       "4  Mensalistas             7     SECRETARIAS       3878  ARNO SCHWARZ  ...   \n",
       "\n",
       "    Previsto.1              Realizado.1  Id Evento.1  \\\n",
       "0  08:30 17:30  08:20 13:00 14:00 18:56           46   \n",
       "1  08:30 17:30  08:15 13:12 14:15 18:56           46   \n",
       "2  08:30 17:30  09:45 13:13 14:13 18:00           46   \n",
       "3  08:30 17:30  09:46 13:25 14:25 17:47           46   \n",
       "4  08:30 17:30  08:16 13:04 14:05 18:14           46   \n",
       "\n",
       "              Desc Evento.1  Quantidade Valor.1 Quantidade Hora.1 Id Tipo Dia  \\\n",
       "0  Horas Excedentes (Saída)            1.433333             01:26           1   \n",
       "1  Horas Excedentes (Saída)            1.433333             01:26           1   \n",
       "2  Horas Excedentes (Saída)            0.500000             00:30           1   \n",
       "3  Horas Excedentes (Saída)            0.283333             00:17           1   \n",
       "4  Horas Excedentes (Saída)            0.733333             00:44           1   \n",
       "\n",
       "            Desc Tipo Dia Id Tipo Ocorrência  Desc Tipo Ocorrência  \n",
       "0  Dia Normal de Trabalho                  0    Não Necessita Ação  \n",
       "1  Dia Normal de Trabalho                  0    Não Necessita Ação  \n",
       "2  Dia Normal de Trabalho                  0    Não Necessita Ação  \n",
       "3  Dia Normal de Trabalho                  0    Não Necessita Ação  \n",
       "4  Dia Normal de Trabalho                  0    Não Necessita Ação  \n",
       "\n",
       "[5 rows x 39 columns]"
      ]
     },
     "execution_count": 4,
     "metadata": {},
     "output_type": "execute_result"
    }
   ],
   "source": [
    "relat_ponto.head()"
   ]
  },
  {
   "cell_type": "code",
   "execution_count": 5,
   "metadata": {},
   "outputs": [
    {
     "data": {
      "text/html": [
       "<div>\n",
       "<style scoped>\n",
       "    .dataframe tbody tr th:only-of-type {\n",
       "        vertical-align: middle;\n",
       "    }\n",
       "\n",
       "    .dataframe tbody tr th {\n",
       "        vertical-align: top;\n",
       "    }\n",
       "\n",
       "    .dataframe thead th {\n",
       "        text-align: right;\n",
       "    }\n",
       "</style>\n",
       "<table border=\"1\" class=\"dataframe\">\n",
       "  <thead>\n",
       "    <tr style=\"text-align: right;\">\n",
       "      <th></th>\n",
       "      <th>id_contratado</th>\n",
       "      <th>nome_completo</th>\n",
       "      <th>email</th>\n",
       "      <th>login_rede</th>\n",
       "    </tr>\n",
       "  </thead>\n",
       "  <tbody>\n",
       "    <tr>\n",
       "      <th>0</th>\n",
       "      <td>16</td>\n",
       "      <td>MARIA DORZILA NEPOMUCENO</td>\n",
       "      <td>MARIA.NEPOMUCENO@BANCOFIBRA.COM.BR</td>\n",
       "      <td>mnepomuceno</td>\n",
       "    </tr>\n",
       "    <tr>\n",
       "      <th>1</th>\n",
       "      <td>41</td>\n",
       "      <td>CARLOS EDUARDO DE SOUZA</td>\n",
       "      <td>CARLOS.SOUZA@BANCOFIBRA.COM.BR</td>\n",
       "      <td>csouza</td>\n",
       "    </tr>\n",
       "    <tr>\n",
       "      <th>2</th>\n",
       "      <td>46</td>\n",
       "      <td>MARIA ISABEL DOS SANTOS FRANCA</td>\n",
       "      <td>MARIA.FRANCA@CREDIFIBRA.COM.BR</td>\n",
       "      <td>mfranca</td>\n",
       "    </tr>\n",
       "    <tr>\n",
       "      <th>3</th>\n",
       "      <td>57</td>\n",
       "      <td>RODRIGO DOS SANTOS RODRIGUES</td>\n",
       "      <td>RODRIGO.RODRIGUES@BANCOFIBRA.COM.BR</td>\n",
       "      <td>rrodrigues</td>\n",
       "    </tr>\n",
       "    <tr>\n",
       "      <th>4</th>\n",
       "      <td>83</td>\n",
       "      <td>AMELIO RODRIGUES DA SILVA ROCHA</td>\n",
       "      <td>AMELIO.ROCHA@CREDIFIBRA.COM.BR</td>\n",
       "      <td>arrocha</td>\n",
       "    </tr>\n",
       "  </tbody>\n",
       "</table>\n",
       "</div>"
      ],
      "text/plain": [
       "   id_contratado                    nome_completo  \\\n",
       "0             16         MARIA DORZILA NEPOMUCENO   \n",
       "1             41          CARLOS EDUARDO DE SOUZA   \n",
       "2             46   MARIA ISABEL DOS SANTOS FRANCA   \n",
       "3             57     RODRIGO DOS SANTOS RODRIGUES   \n",
       "4             83  AMELIO RODRIGUES DA SILVA ROCHA   \n",
       "\n",
       "                                 email   login_rede  \n",
       "0   MARIA.NEPOMUCENO@BANCOFIBRA.COM.BR  mnepomuceno  \n",
       "1       CARLOS.SOUZA@BANCOFIBRA.COM.BR       csouza  \n",
       "2       MARIA.FRANCA@CREDIFIBRA.COM.BR      mfranca  \n",
       "3  RODRIGO.RODRIGUES@BANCOFIBRA.COM.BR   rrodrigues  \n",
       "4       AMELIO.ROCHA@CREDIFIBRA.COM.BR      arrocha  "
      ]
     },
     "execution_count": 5,
     "metadata": {},
     "output_type": "execute_result"
    }
   ],
   "source": [
    "base_colab.head()"
   ]
  },
  {
   "cell_type": "code",
   "execution_count": 6,
   "metadata": {},
   "outputs": [
    {
     "name": "stdout",
     "output_type": "stream",
     "text": [
      "<class 'pandas.core.frame.DataFrame'>\n",
      "RangeIndex: 336 entries, 0 to 335\n",
      "Data columns (total 4 columns):\n",
      " #   Column         Non-Null Count  Dtype \n",
      "---  ------         --------------  ----- \n",
      " 0   id_contratado  336 non-null    int64 \n",
      " 1   nome_completo  336 non-null    object\n",
      " 2   email          336 non-null    object\n",
      " 3   login_rede     328 non-null    object\n",
      "dtypes: int64(1), object(3)\n",
      "memory usage: 10.6+ KB\n"
     ]
    }
   ],
   "source": [
    "base_colab.info()"
   ]
  },
  {
   "cell_type": "code",
   "execution_count": 7,
   "metadata": {},
   "outputs": [
    {
     "name": "stdout",
     "output_type": "stream",
     "text": [
      "<class 'pandas.core.frame.DataFrame'>\n",
      "RangeIndex: 2752 entries, 0 to 2751\n",
      "Data columns (total 39 columns):\n",
      " #   Column                Non-Null Count  Dtype         \n",
      "---  ------                --------------  -----         \n",
      " 0   Id Empresa            2752 non-null   int64         \n",
      " 1   Desc Empresa          2752 non-null   object        \n",
      " 2   Id Local              2752 non-null   int64         \n",
      " 3   Desc Local            2752 non-null   object        \n",
      " 4   Id Folha              2752 non-null   int64         \n",
      " 5   Desc Folha            2752 non-null   object        \n",
      " 6   Id Hirarquia          2752 non-null   int64         \n",
      " 7   Desc Hierarquia       1266 non-null   object        \n",
      " 8   Id_Gestor             2752 non-null   int64         \n",
      " 9   Nome_Gestor           2752 non-null   object        \n",
      " 10  Id CCusto             2752 non-null   int64         \n",
      " 11  Desc CCusto           2752 non-null   object        \n",
      " 12  Id Cargo              2752 non-null   int64         \n",
      " 13  Desc Cargo            2752 non-null   object        \n",
      " 14  Id Contratado         2752 non-null   int64         \n",
      " 15  Desc Contratado       2752 non-null   object        \n",
      " 16  Data                  2752 non-null   datetime64[ns]\n",
      " 17  Previsto              2752 non-null   object        \n",
      " 18  Realizado             2752 non-null   object        \n",
      " 19  Id Evento             2752 non-null   int64         \n",
      " 20  Desc Evento           2752 non-null   object        \n",
      " 21  Quantidade Valor      2752 non-null   float64       \n",
      " 22  Quantidade Hora       2752 non-null   object        \n",
      " 23  Id Cargo.1            2752 non-null   int64         \n",
      " 24  Desc Cargo.1          2752 non-null   object        \n",
      " 25  Id Contratado.1       2752 non-null   int64         \n",
      " 26  Desc Contratado.1     2752 non-null   object        \n",
      " 27  Data.1                2752 non-null   datetime64[ns]\n",
      " 28  Dia da Semana         2752 non-null   datetime64[ns]\n",
      " 29  Previsto.1            2752 non-null   object        \n",
      " 30  Realizado.1           2752 non-null   object        \n",
      " 31  Id Evento.1           2752 non-null   int64         \n",
      " 32  Desc Evento.1         2752 non-null   object        \n",
      " 33  Quantidade Valor.1    2752 non-null   float64       \n",
      " 34  Quantidade Hora.1     2752 non-null   object        \n",
      " 35  Id Tipo Dia           2752 non-null   int64         \n",
      " 36  Desc Tipo Dia         2752 non-null   object        \n",
      " 37  Id Tipo Ocorrência    2752 non-null   int64         \n",
      " 38  Desc Tipo Ocorrência  2752 non-null   object        \n",
      "dtypes: datetime64[ns](3), float64(2), int64(14), object(20)\n",
      "memory usage: 838.6+ KB\n"
     ]
    }
   ],
   "source": [
    "relat_ponto.info()"
   ]
  },
  {
   "cell_type": "code",
   "execution_count": 8,
   "metadata": {},
   "outputs": [],
   "source": [
    "relat_ponto = relat_ponto.rename(columns={'Id Contratado': 'id_contratado'})"
   ]
  },
  {
   "cell_type": "code",
   "execution_count": 9,
   "metadata": {},
   "outputs": [],
   "source": [
    "relat_ponto = pd.merge(relat_ponto, base_colab, on=['id_contratado'], how='left')"
   ]
  },
  {
   "cell_type": "markdown",
   "metadata": {},
   "source": [
    "## Daqui pra frente as buscar por valores"
   ]
  },
  {
   "cell_type": "code",
   "execution_count": 10,
   "metadata": {},
   "outputs": [
    {
     "data": {
      "text/plain": [
       "'18:56'"
      ]
     },
     "execution_count": 10,
     "metadata": {},
     "output_type": "execute_result"
    }
   ],
   "source": [
    "relat_ponto['Realizado.1'][1][-5:]"
   ]
  },
  {
   "cell_type": "code",
   "execution_count": 11,
   "metadata": {},
   "outputs": [],
   "source": [
    "#criando colulas vazias no data frema\n",
    "#criando colulas vazias no data frema\n",
    "relat_ponto['hora_saida'] = 'NaN'\n",
    "relat_ponto['Fora_horas'] = 'NaN'"
   ]
  },
  {
   "cell_type": "code",
   "execution_count": 12,
   "metadata": {},
   "outputs": [],
   "source": [
    "# EXTRAINDO VALORES DAS HORAS E ATRIBUINDO EM UM NOVO CAMPO APENAS AS HORAS; \n",
    "for index, row in relat_ponto.iterrows():\n",
    "    relat_ponto.loc[index,'hora_saida'] = relat_ponto.loc[index,'Realizado.1'][-5:]"
   ]
  },
  {
   "cell_type": "code",
   "execution_count": 13,
   "metadata": {},
   "outputs": [
    {
     "data": {
      "text/html": [
       "<div>\n",
       "<style scoped>\n",
       "    .dataframe tbody tr th:only-of-type {\n",
       "        vertical-align: middle;\n",
       "    }\n",
       "\n",
       "    .dataframe tbody tr th {\n",
       "        vertical-align: top;\n",
       "    }\n",
       "\n",
       "    .dataframe thead th {\n",
       "        text-align: right;\n",
       "    }\n",
       "</style>\n",
       "<table border=\"1\" class=\"dataframe\">\n",
       "  <thead>\n",
       "    <tr style=\"text-align: right;\">\n",
       "      <th></th>\n",
       "      <th>Id Empresa</th>\n",
       "      <th>Desc Empresa</th>\n",
       "      <th>Id Local</th>\n",
       "      <th>Desc Local</th>\n",
       "      <th>Id Folha</th>\n",
       "      <th>Desc Folha</th>\n",
       "      <th>Id Hirarquia</th>\n",
       "      <th>Desc Hierarquia</th>\n",
       "      <th>Id_Gestor</th>\n",
       "      <th>Nome_Gestor</th>\n",
       "      <th>...</th>\n",
       "      <th>Quantidade Hora.1</th>\n",
       "      <th>Id Tipo Dia</th>\n",
       "      <th>Desc Tipo Dia</th>\n",
       "      <th>Id Tipo Ocorrência</th>\n",
       "      <th>Desc Tipo Ocorrência</th>\n",
       "      <th>nome_completo</th>\n",
       "      <th>email</th>\n",
       "      <th>login_rede</th>\n",
       "      <th>hora_saida</th>\n",
       "      <th>Fora_horas</th>\n",
       "    </tr>\n",
       "  </thead>\n",
       "  <tbody>\n",
       "    <tr>\n",
       "      <th>0</th>\n",
       "      <td>1</td>\n",
       "      <td>BANCO FIBRA SA</td>\n",
       "      <td>1</td>\n",
       "      <td>BANCO FIBRA SA</td>\n",
       "      <td>11</td>\n",
       "      <td>Mensalistas</td>\n",
       "      <td>7</td>\n",
       "      <td>SECRETARIAS</td>\n",
       "      <td>3878</td>\n",
       "      <td>ARNO SCHWARZ</td>\n",
       "      <td>...</td>\n",
       "      <td>01:26</td>\n",
       "      <td>1</td>\n",
       "      <td>Dia Normal de Trabalho</td>\n",
       "      <td>0</td>\n",
       "      <td>Não Necessita Ação</td>\n",
       "      <td>ALICE ROBOREDO NOGUEIRA</td>\n",
       "      <td>ALICE.NOGUEIRA@BANCOFIBRA.COM.BR</td>\n",
       "      <td>anogueira</td>\n",
       "      <td>18:56</td>\n",
       "      <td>NaN</td>\n",
       "    </tr>\n",
       "    <tr>\n",
       "      <th>1</th>\n",
       "      <td>1</td>\n",
       "      <td>BANCO FIBRA SA</td>\n",
       "      <td>1</td>\n",
       "      <td>BANCO FIBRA SA</td>\n",
       "      <td>11</td>\n",
       "      <td>Mensalistas</td>\n",
       "      <td>7</td>\n",
       "      <td>SECRETARIAS</td>\n",
       "      <td>3878</td>\n",
       "      <td>ARNO SCHWARZ</td>\n",
       "      <td>...</td>\n",
       "      <td>01:26</td>\n",
       "      <td>1</td>\n",
       "      <td>Dia Normal de Trabalho</td>\n",
       "      <td>0</td>\n",
       "      <td>Não Necessita Ação</td>\n",
       "      <td>ALICE ROBOREDO NOGUEIRA</td>\n",
       "      <td>ALICE.NOGUEIRA@BANCOFIBRA.COM.BR</td>\n",
       "      <td>anogueira</td>\n",
       "      <td>18:56</td>\n",
       "      <td>NaN</td>\n",
       "    </tr>\n",
       "    <tr>\n",
       "      <th>2</th>\n",
       "      <td>1</td>\n",
       "      <td>BANCO FIBRA SA</td>\n",
       "      <td>1</td>\n",
       "      <td>BANCO FIBRA SA</td>\n",
       "      <td>11</td>\n",
       "      <td>Mensalistas</td>\n",
       "      <td>7</td>\n",
       "      <td>SECRETARIAS</td>\n",
       "      <td>3878</td>\n",
       "      <td>ARNO SCHWARZ</td>\n",
       "      <td>...</td>\n",
       "      <td>00:30</td>\n",
       "      <td>1</td>\n",
       "      <td>Dia Normal de Trabalho</td>\n",
       "      <td>0</td>\n",
       "      <td>Não Necessita Ação</td>\n",
       "      <td>ALICE ROBOREDO NOGUEIRA</td>\n",
       "      <td>ALICE.NOGUEIRA@BANCOFIBRA.COM.BR</td>\n",
       "      <td>anogueira</td>\n",
       "      <td>18:00</td>\n",
       "      <td>NaN</td>\n",
       "    </tr>\n",
       "    <tr>\n",
       "      <th>3</th>\n",
       "      <td>1</td>\n",
       "      <td>BANCO FIBRA SA</td>\n",
       "      <td>1</td>\n",
       "      <td>BANCO FIBRA SA</td>\n",
       "      <td>11</td>\n",
       "      <td>Mensalistas</td>\n",
       "      <td>7</td>\n",
       "      <td>SECRETARIAS</td>\n",
       "      <td>3878</td>\n",
       "      <td>ARNO SCHWARZ</td>\n",
       "      <td>...</td>\n",
       "      <td>00:17</td>\n",
       "      <td>1</td>\n",
       "      <td>Dia Normal de Trabalho</td>\n",
       "      <td>0</td>\n",
       "      <td>Não Necessita Ação</td>\n",
       "      <td>ALICE ROBOREDO NOGUEIRA</td>\n",
       "      <td>ALICE.NOGUEIRA@BANCOFIBRA.COM.BR</td>\n",
       "      <td>anogueira</td>\n",
       "      <td>17:47</td>\n",
       "      <td>NaN</td>\n",
       "    </tr>\n",
       "    <tr>\n",
       "      <th>4</th>\n",
       "      <td>1</td>\n",
       "      <td>BANCO FIBRA SA</td>\n",
       "      <td>1</td>\n",
       "      <td>BANCO FIBRA SA</td>\n",
       "      <td>11</td>\n",
       "      <td>Mensalistas</td>\n",
       "      <td>7</td>\n",
       "      <td>SECRETARIAS</td>\n",
       "      <td>3878</td>\n",
       "      <td>ARNO SCHWARZ</td>\n",
       "      <td>...</td>\n",
       "      <td>00:44</td>\n",
       "      <td>1</td>\n",
       "      <td>Dia Normal de Trabalho</td>\n",
       "      <td>0</td>\n",
       "      <td>Não Necessita Ação</td>\n",
       "      <td>ALICE ROBOREDO NOGUEIRA</td>\n",
       "      <td>ALICE.NOGUEIRA@BANCOFIBRA.COM.BR</td>\n",
       "      <td>anogueira</td>\n",
       "      <td>18:14</td>\n",
       "      <td>NaN</td>\n",
       "    </tr>\n",
       "  </tbody>\n",
       "</table>\n",
       "<p>5 rows × 44 columns</p>\n",
       "</div>"
      ],
      "text/plain": [
       "   Id Empresa    Desc Empresa  Id Local      Desc Local  Id Folha  \\\n",
       "0           1  BANCO FIBRA SA         1  BANCO FIBRA SA        11   \n",
       "1           1  BANCO FIBRA SA         1  BANCO FIBRA SA        11   \n",
       "2           1  BANCO FIBRA SA         1  BANCO FIBRA SA        11   \n",
       "3           1  BANCO FIBRA SA         1  BANCO FIBRA SA        11   \n",
       "4           1  BANCO FIBRA SA         1  BANCO FIBRA SA        11   \n",
       "\n",
       "    Desc Folha  Id Hirarquia Desc Hierarquia  Id_Gestor   Nome_Gestor  ...  \\\n",
       "0  Mensalistas             7     SECRETARIAS       3878  ARNO SCHWARZ  ...   \n",
       "1  Mensalistas             7     SECRETARIAS       3878  ARNO SCHWARZ  ...   \n",
       "2  Mensalistas             7     SECRETARIAS       3878  ARNO SCHWARZ  ...   \n",
       "3  Mensalistas             7     SECRETARIAS       3878  ARNO SCHWARZ  ...   \n",
       "4  Mensalistas             7     SECRETARIAS       3878  ARNO SCHWARZ  ...   \n",
       "\n",
       "   Quantidade Hora.1 Id Tipo Dia           Desc Tipo Dia Id Tipo Ocorrência  \\\n",
       "0              01:26           1  Dia Normal de Trabalho                  0   \n",
       "1              01:26           1  Dia Normal de Trabalho                  0   \n",
       "2              00:30           1  Dia Normal de Trabalho                  0   \n",
       "3              00:17           1  Dia Normal de Trabalho                  0   \n",
       "4              00:44           1  Dia Normal de Trabalho                  0   \n",
       "\n",
       "   Desc Tipo Ocorrência            nome_completo  \\\n",
       "0    Não Necessita Ação  ALICE ROBOREDO NOGUEIRA   \n",
       "1    Não Necessita Ação  ALICE ROBOREDO NOGUEIRA   \n",
       "2    Não Necessita Ação  ALICE ROBOREDO NOGUEIRA   \n",
       "3    Não Necessita Ação  ALICE ROBOREDO NOGUEIRA   \n",
       "4    Não Necessita Ação  ALICE ROBOREDO NOGUEIRA   \n",
       "\n",
       "                              email login_rede hora_saida  Fora_horas  \n",
       "0  ALICE.NOGUEIRA@BANCOFIBRA.COM.BR  anogueira      18:56         NaN  \n",
       "1  ALICE.NOGUEIRA@BANCOFIBRA.COM.BR  anogueira      18:56         NaN  \n",
       "2  ALICE.NOGUEIRA@BANCOFIBRA.COM.BR  anogueira      18:00         NaN  \n",
       "3  ALICE.NOGUEIRA@BANCOFIBRA.COM.BR  anogueira      17:47         NaN  \n",
       "4  ALICE.NOGUEIRA@BANCOFIBRA.COM.BR  anogueira      18:14         NaN  \n",
       "\n",
       "[5 rows x 44 columns]"
      ]
     },
     "execution_count": 13,
     "metadata": {},
     "output_type": "execute_result"
    }
   ],
   "source": [
    "relat_ponto.head()"
   ]
  },
  {
   "cell_type": "markdown",
   "metadata": {},
   "source": [
    "### Vamos tranformar a coluna email toda em minusculo para nao dar erro na comparação "
   ]
  },
  {
   "cell_type": "code",
   "execution_count": 14,
   "metadata": {
    "scrolled": true
   },
   "outputs": [
    {
     "ename": "AttributeError",
     "evalue": "'float' object has no attribute 'lower'",
     "output_type": "error",
     "traceback": [
      "\u001b[1;31m---------------------------------------------------------------------------\u001b[0m",
      "\u001b[1;31mAttributeError\u001b[0m                            Traceback (most recent call last)",
      "\u001b[1;32m<ipython-input-14-fafa7b0e0651>\u001b[0m in \u001b[0;36m<module>\u001b[1;34m\u001b[0m\n\u001b[0;32m      2\u001b[0m \u001b[1;31m#ISSO VAI DAR ERRO MAIS A ALTERAÇÃO SERÁ FEITA\u001b[0m\u001b[1;33m\u001b[0m\u001b[1;33m\u001b[0m\u001b[1;33m\u001b[0m\u001b[0m\n\u001b[0;32m      3\u001b[0m \u001b[1;32mfor\u001b[0m \u001b[0mindex\u001b[0m\u001b[1;33m,\u001b[0m \u001b[0mrow\u001b[0m \u001b[1;32min\u001b[0m \u001b[0mrelat_ponto\u001b[0m\u001b[1;33m.\u001b[0m\u001b[0miterrows\u001b[0m\u001b[1;33m(\u001b[0m\u001b[1;33m)\u001b[0m\u001b[1;33m:\u001b[0m\u001b[1;33m\u001b[0m\u001b[1;33m\u001b[0m\u001b[0m\n\u001b[1;32m----> 4\u001b[1;33m     \u001b[0mrelat_ponto\u001b[0m\u001b[1;33m.\u001b[0m\u001b[0mloc\u001b[0m\u001b[1;33m[\u001b[0m\u001b[0mindex\u001b[0m\u001b[1;33m,\u001b[0m\u001b[1;34m'email'\u001b[0m\u001b[1;33m]\u001b[0m \u001b[1;33m=\u001b[0m \u001b[0mrelat_ponto\u001b[0m\u001b[1;33m.\u001b[0m\u001b[0mloc\u001b[0m\u001b[1;33m[\u001b[0m\u001b[0mindex\u001b[0m\u001b[1;33m,\u001b[0m\u001b[1;34m'email'\u001b[0m\u001b[1;33m]\u001b[0m\u001b[1;33m.\u001b[0m\u001b[0mlower\u001b[0m\u001b[1;33m(\u001b[0m\u001b[1;33m)\u001b[0m\u001b[1;33m\u001b[0m\u001b[1;33m\u001b[0m\u001b[0m\n\u001b[0m",
      "\u001b[1;31mAttributeError\u001b[0m: 'float' object has no attribute 'lower'"
     ]
    }
   ],
   "source": [
    "# Convertendo maiuscula para minuscula no campo email\n",
    "#ISSO VAI DAR ERRO MAIS A ALTERAÇÃO SERÁ FEITA \n",
    "for index, row in relat_ponto.iterrows():\n",
    "    relat_ponto.loc[index,'email'] = relat_ponto.loc[index,'email'].lower()"
   ]
  },
  {
   "cell_type": "code",
   "execution_count": 15,
   "metadata": {},
   "outputs": [
    {
     "data": {
      "text/html": [
       "<div>\n",
       "<style scoped>\n",
       "    .dataframe tbody tr th:only-of-type {\n",
       "        vertical-align: middle;\n",
       "    }\n",
       "\n",
       "    .dataframe tbody tr th {\n",
       "        vertical-align: top;\n",
       "    }\n",
       "\n",
       "    .dataframe thead th {\n",
       "        text-align: right;\n",
       "    }\n",
       "</style>\n",
       "<table border=\"1\" class=\"dataframe\">\n",
       "  <thead>\n",
       "    <tr style=\"text-align: right;\">\n",
       "      <th></th>\n",
       "      <th>Id Empresa</th>\n",
       "      <th>Desc Empresa</th>\n",
       "      <th>Id Local</th>\n",
       "      <th>Desc Local</th>\n",
       "      <th>Id Folha</th>\n",
       "      <th>Desc Folha</th>\n",
       "      <th>Id Hirarquia</th>\n",
       "      <th>Desc Hierarquia</th>\n",
       "      <th>Id_Gestor</th>\n",
       "      <th>Nome_Gestor</th>\n",
       "      <th>...</th>\n",
       "      <th>Quantidade Hora.1</th>\n",
       "      <th>Id Tipo Dia</th>\n",
       "      <th>Desc Tipo Dia</th>\n",
       "      <th>Id Tipo Ocorrência</th>\n",
       "      <th>Desc Tipo Ocorrência</th>\n",
       "      <th>nome_completo</th>\n",
       "      <th>email</th>\n",
       "      <th>login_rede</th>\n",
       "      <th>hora_saida</th>\n",
       "      <th>Fora_horas</th>\n",
       "    </tr>\n",
       "  </thead>\n",
       "  <tbody>\n",
       "    <tr>\n",
       "      <th>0</th>\n",
       "      <td>1</td>\n",
       "      <td>BANCO FIBRA SA</td>\n",
       "      <td>1</td>\n",
       "      <td>BANCO FIBRA SA</td>\n",
       "      <td>11</td>\n",
       "      <td>Mensalistas</td>\n",
       "      <td>7</td>\n",
       "      <td>SECRETARIAS</td>\n",
       "      <td>3878</td>\n",
       "      <td>ARNO SCHWARZ</td>\n",
       "      <td>...</td>\n",
       "      <td>01:26</td>\n",
       "      <td>1</td>\n",
       "      <td>Dia Normal de Trabalho</td>\n",
       "      <td>0</td>\n",
       "      <td>Não Necessita Ação</td>\n",
       "      <td>ALICE ROBOREDO NOGUEIRA</td>\n",
       "      <td>alice.nogueira@bancofibra.com.br</td>\n",
       "      <td>anogueira</td>\n",
       "      <td>18:56</td>\n",
       "      <td>NaN</td>\n",
       "    </tr>\n",
       "    <tr>\n",
       "      <th>1</th>\n",
       "      <td>1</td>\n",
       "      <td>BANCO FIBRA SA</td>\n",
       "      <td>1</td>\n",
       "      <td>BANCO FIBRA SA</td>\n",
       "      <td>11</td>\n",
       "      <td>Mensalistas</td>\n",
       "      <td>7</td>\n",
       "      <td>SECRETARIAS</td>\n",
       "      <td>3878</td>\n",
       "      <td>ARNO SCHWARZ</td>\n",
       "      <td>...</td>\n",
       "      <td>01:26</td>\n",
       "      <td>1</td>\n",
       "      <td>Dia Normal de Trabalho</td>\n",
       "      <td>0</td>\n",
       "      <td>Não Necessita Ação</td>\n",
       "      <td>ALICE ROBOREDO NOGUEIRA</td>\n",
       "      <td>alice.nogueira@bancofibra.com.br</td>\n",
       "      <td>anogueira</td>\n",
       "      <td>18:56</td>\n",
       "      <td>NaN</td>\n",
       "    </tr>\n",
       "    <tr>\n",
       "      <th>2</th>\n",
       "      <td>1</td>\n",
       "      <td>BANCO FIBRA SA</td>\n",
       "      <td>1</td>\n",
       "      <td>BANCO FIBRA SA</td>\n",
       "      <td>11</td>\n",
       "      <td>Mensalistas</td>\n",
       "      <td>7</td>\n",
       "      <td>SECRETARIAS</td>\n",
       "      <td>3878</td>\n",
       "      <td>ARNO SCHWARZ</td>\n",
       "      <td>...</td>\n",
       "      <td>00:30</td>\n",
       "      <td>1</td>\n",
       "      <td>Dia Normal de Trabalho</td>\n",
       "      <td>0</td>\n",
       "      <td>Não Necessita Ação</td>\n",
       "      <td>ALICE ROBOREDO NOGUEIRA</td>\n",
       "      <td>alice.nogueira@bancofibra.com.br</td>\n",
       "      <td>anogueira</td>\n",
       "      <td>18:00</td>\n",
       "      <td>NaN</td>\n",
       "    </tr>\n",
       "    <tr>\n",
       "      <th>3</th>\n",
       "      <td>1</td>\n",
       "      <td>BANCO FIBRA SA</td>\n",
       "      <td>1</td>\n",
       "      <td>BANCO FIBRA SA</td>\n",
       "      <td>11</td>\n",
       "      <td>Mensalistas</td>\n",
       "      <td>7</td>\n",
       "      <td>SECRETARIAS</td>\n",
       "      <td>3878</td>\n",
       "      <td>ARNO SCHWARZ</td>\n",
       "      <td>...</td>\n",
       "      <td>00:17</td>\n",
       "      <td>1</td>\n",
       "      <td>Dia Normal de Trabalho</td>\n",
       "      <td>0</td>\n",
       "      <td>Não Necessita Ação</td>\n",
       "      <td>ALICE ROBOREDO NOGUEIRA</td>\n",
       "      <td>alice.nogueira@bancofibra.com.br</td>\n",
       "      <td>anogueira</td>\n",
       "      <td>17:47</td>\n",
       "      <td>NaN</td>\n",
       "    </tr>\n",
       "    <tr>\n",
       "      <th>4</th>\n",
       "      <td>1</td>\n",
       "      <td>BANCO FIBRA SA</td>\n",
       "      <td>1</td>\n",
       "      <td>BANCO FIBRA SA</td>\n",
       "      <td>11</td>\n",
       "      <td>Mensalistas</td>\n",
       "      <td>7</td>\n",
       "      <td>SECRETARIAS</td>\n",
       "      <td>3878</td>\n",
       "      <td>ARNO SCHWARZ</td>\n",
       "      <td>...</td>\n",
       "      <td>00:44</td>\n",
       "      <td>1</td>\n",
       "      <td>Dia Normal de Trabalho</td>\n",
       "      <td>0</td>\n",
       "      <td>Não Necessita Ação</td>\n",
       "      <td>ALICE ROBOREDO NOGUEIRA</td>\n",
       "      <td>alice.nogueira@bancofibra.com.br</td>\n",
       "      <td>anogueira</td>\n",
       "      <td>18:14</td>\n",
       "      <td>NaN</td>\n",
       "    </tr>\n",
       "  </tbody>\n",
       "</table>\n",
       "<p>5 rows × 44 columns</p>\n",
       "</div>"
      ],
      "text/plain": [
       "   Id Empresa    Desc Empresa  Id Local      Desc Local  Id Folha  \\\n",
       "0           1  BANCO FIBRA SA         1  BANCO FIBRA SA        11   \n",
       "1           1  BANCO FIBRA SA         1  BANCO FIBRA SA        11   \n",
       "2           1  BANCO FIBRA SA         1  BANCO FIBRA SA        11   \n",
       "3           1  BANCO FIBRA SA         1  BANCO FIBRA SA        11   \n",
       "4           1  BANCO FIBRA SA         1  BANCO FIBRA SA        11   \n",
       "\n",
       "    Desc Folha  Id Hirarquia Desc Hierarquia  Id_Gestor   Nome_Gestor  ...  \\\n",
       "0  Mensalistas             7     SECRETARIAS       3878  ARNO SCHWARZ  ...   \n",
       "1  Mensalistas             7     SECRETARIAS       3878  ARNO SCHWARZ  ...   \n",
       "2  Mensalistas             7     SECRETARIAS       3878  ARNO SCHWARZ  ...   \n",
       "3  Mensalistas             7     SECRETARIAS       3878  ARNO SCHWARZ  ...   \n",
       "4  Mensalistas             7     SECRETARIAS       3878  ARNO SCHWARZ  ...   \n",
       "\n",
       "   Quantidade Hora.1 Id Tipo Dia           Desc Tipo Dia Id Tipo Ocorrência  \\\n",
       "0              01:26           1  Dia Normal de Trabalho                  0   \n",
       "1              01:26           1  Dia Normal de Trabalho                  0   \n",
       "2              00:30           1  Dia Normal de Trabalho                  0   \n",
       "3              00:17           1  Dia Normal de Trabalho                  0   \n",
       "4              00:44           1  Dia Normal de Trabalho                  0   \n",
       "\n",
       "   Desc Tipo Ocorrência            nome_completo  \\\n",
       "0    Não Necessita Ação  ALICE ROBOREDO NOGUEIRA   \n",
       "1    Não Necessita Ação  ALICE ROBOREDO NOGUEIRA   \n",
       "2    Não Necessita Ação  ALICE ROBOREDO NOGUEIRA   \n",
       "3    Não Necessita Ação  ALICE ROBOREDO NOGUEIRA   \n",
       "4    Não Necessita Ação  ALICE ROBOREDO NOGUEIRA   \n",
       "\n",
       "                              email login_rede hora_saida  Fora_horas  \n",
       "0  alice.nogueira@bancofibra.com.br  anogueira      18:56         NaN  \n",
       "1  alice.nogueira@bancofibra.com.br  anogueira      18:56         NaN  \n",
       "2  alice.nogueira@bancofibra.com.br  anogueira      18:00         NaN  \n",
       "3  alice.nogueira@bancofibra.com.br  anogueira      17:47         NaN  \n",
       "4  alice.nogueira@bancofibra.com.br  anogueira      18:14         NaN  \n",
       "\n",
       "[5 rows x 44 columns]"
      ]
     },
     "execution_count": 15,
     "metadata": {},
     "output_type": "execute_result"
    }
   ],
   "source": [
    "relat_ponto.head()"
   ]
  },
  {
   "cell_type": "code",
   "execution_count": 16,
   "metadata": {},
   "outputs": [
    {
     "data": {
      "text/plain": [
       "datetime.time(23, 59, 49)"
      ]
     },
     "execution_count": 16,
     "metadata": {},
     "output_type": "execute_result"
    }
   ],
   "source": [
    "logs_emails['hora'][1]"
   ]
  },
  {
   "cell_type": "code",
   "execution_count": 17,
   "metadata": {},
   "outputs": [],
   "source": [
    "#convertendo campo hora saindo de string para datetime\n",
    "relat_ponto['hora_saida'] = pd.to_datetime(relat_ponto['hora_saida'])\n"
   ]
  },
  {
   "cell_type": "code",
   "execution_count": 18,
   "metadata": {},
   "outputs": [
    {
     "data": {
      "text/plain": [
       "datetime.time(18, 56)"
      ]
     },
     "execution_count": 18,
     "metadata": {},
     "output_type": "execute_result"
    }
   ],
   "source": [
    "relat_ponto['hora_saida'][1].time()"
   ]
  },
  {
   "cell_type": "code",
   "execution_count": 19,
   "metadata": {},
   "outputs": [
    {
     "data": {
      "text/plain": [
       "0      2021-08-27 18:56:00\n",
       "1      2021-08-27 18:56:00\n",
       "2      2021-08-27 18:00:00\n",
       "3      2021-08-27 17:47:00\n",
       "4      2021-08-27 18:14:00\n",
       "               ...        \n",
       "2747   2021-08-27 19:51:00\n",
       "2748   2021-08-27 20:16:00\n",
       "2749   2021-08-27 19:08:00\n",
       "2750   2021-08-27 21:27:00\n",
       "2751   2021-08-27 20:07:00\n",
       "Name: hora_saida, Length: 2752, dtype: datetime64[ns]"
      ]
     },
     "execution_count": 19,
     "metadata": {},
     "output_type": "execute_result"
    }
   ],
   "source": [
    "relat_ponto['hora_saida']"
   ]
  },
  {
   "cell_type": "code",
   "execution_count": 20,
   "metadata": {},
   "outputs": [
    {
     "data": {
      "text/plain": [
       "Timestamp('2021-06-02 00:00:00')"
      ]
     },
     "execution_count": 20,
     "metadata": {},
     "output_type": "execute_result"
    }
   ],
   "source": [
    "relat_ponto['Data'][50]"
   ]
  },
  {
   "cell_type": "code",
   "execution_count": null,
   "metadata": {},
   "outputs": [
    {
     "name": "stderr",
     "output_type": "stream",
     "text": [
      "<ipython-input-21-29690da33d60>:7: SettingWithCopyWarning: \n",
      "A value is trying to be set on a copy of a slice from a DataFrame\n",
      "\n",
      "See the caveats in the documentation: https://pandas.pydata.org/pandas-docs/stable/user_guide/indexing.html#returning-a-view-versus-a-copy\n",
      "  relat_ponto['Fora_horas'][posicao] = 1\n"
     ]
    },
    {
     "name": "stdout",
     "output_type": "stream",
     "text": [
      "Exeção encontrada\n",
      "Exeção encontrada\n",
      "Exeção encontrada\n",
      "Exeção encontrada\n",
      "Exeção encontrada\n",
      "Exeção encontrada\n",
      "Exeção encontrada\n",
      "Exeção encontrada\n",
      "Exeção encontrada\n",
      "Exeção encontrada\n",
      "Exeção encontrada\n",
      "Exeção encontrada\n",
      "Exeção encontrada\n",
      "Exeção encontrada\n",
      "Exeção encontrada\n",
      "Exeção encontrada\n",
      "Exeção encontrada\n",
      "Exeção encontrada\n",
      "Exeção encontrada\n",
      "Exeção encontrada\n",
      "Exeção encontrada\n",
      "Exeção encontrada\n",
      "Exeção encontrada\n",
      "Exeção encontrada\n",
      "Exeção encontrada\n",
      "Exeção encontrada\n",
      "Exeção encontrada\n",
      "Exeção encontrada\n",
      "Exeção encontrada\n",
      "Exeção encontrada\n",
      "Exeção encontrada\n",
      "Exeção encontrada\n",
      "Exeção encontrada\n",
      "Exeção encontrada\n",
      "Exeção encontrada\n",
      "Exeção encontrada\n",
      "Exeção encontrada\n",
      "Exeção encontrada\n",
      "Exeção encontrada\n",
      "Exeção encontrada\n",
      "Exeção encontrada\n",
      "Exeção encontrada\n",
      "Exeção encontrada\n",
      "Exeção encontrada\n",
      "Exeção encontrada\n"
     ]
    }
   ],
   "source": [
    "posicao = 0\n",
    "while posicao<len(relat_ponto):\n",
    "    for index, row in logs_emails.iterrows():\n",
    "        if logs_emails.loc[index,'sender_address'] == relat_ponto['email'][posicao]  and logs_emails.loc[index,'origin_timestamp_utc'] == relat_ponto['Data'][posicao] and logs_emails.loc[index,'hora'] > relat_ponto['hora_saida'][posicao].time():\n",
    "            \n",
    "            relat_ponto['Fora_horas'][posicao] = 1\n",
    "            print('Exeção encontrada')\n",
    "        \n",
    "    posicao = posicao +1;"
   ]
  },
  {
   "cell_type": "markdown",
   "metadata": {},
   "source": [
    "# TESTES DAQUI PRA FRENTE "
   ]
  },
  {
   "cell_type": "code",
   "execution_count": null,
   "metadata": {},
   "outputs": [],
   "source": [
    "logs_emails['origin_timestamp_utc'][1]"
   ]
  },
  {
   "cell_type": "code",
   "execution_count": null,
   "metadata": {},
   "outputs": [],
   "source": [
    "relat_ponto['Data']"
   ]
  },
  {
   "cell_type": "code",
   "execution_count": null,
   "metadata": {},
   "outputs": [],
   "source": [
    "#Com parando dois valores de tabelas diferentes\n",
    "posicao = 0\n",
    "while posicao<len(relat_ponto):\n",
    "    posicao = posicao +1;\n",
    "    print(posicao)"
   ]
  },
  {
   "cell_type": "code",
   "execution_count": null,
   "metadata": {},
   "outputs": [],
   "source": [
    "for index, row in logs_emails.iterrows():\n",
    "    for i, row in relat_ponto.iterrows():\n",
    "        if logs_emails.loc[index,'sender_address'] == 'alice.nogueira@bancofibra.com.br' and logs_emails.loc[index,'origin_timestamp_utc'] == relat_ponto.loc[i,'Data'] and logs_emails.loc[index,'hora']>logs_emails['hora'][90000]:\n",
    "            logs_emails.loc[index,'Fora_horas'] = 1\n",
    "\n",
    "            print('Exeção encontrada')"
   ]
  },
  {
   "cell_type": "code",
   "execution_count": null,
   "metadata": {},
   "outputs": [],
   "source": [
    "logs_emails['Fora_horas'] = pd.NA "
   ]
  },
  {
   "cell_type": "code",
   "execution_count": null,
   "metadata": {},
   "outputs": [],
   "source": [
    "a=1\n",
    "b=3\n",
    "c=4\n",
    "d=5"
   ]
  },
  {
   "cell_type": "code",
   "execution_count": null,
   "metadata": {},
   "outputs": [],
   "source": [
    "if b >a and b<c and c<d:\n",
    "    print(\" Dar pra comparar com barra\")\n",
    "else:\n",
    "    print(\"ta errado \")"
   ]
  },
  {
   "cell_type": "code",
   "execution_count": null,
   "metadata": {},
   "outputs": [],
   "source": [
    "relat_ponto['Fora_horas'].value_counts()"
   ]
  },
  {
   "cell_type": "code",
   "execution_count": null,
   "metadata": {},
   "outputs": [],
   "source": [
    "df['col'] = pd.to_datetime(df['col'])\n"
   ]
  },
  {
   "cell_type": "code",
   "execution_count": null,
   "metadata": {},
   "outputs": [],
   "source": [
    "relat_ponto['hora_saida'][50]"
   ]
  },
  {
   "cell_type": "code",
   "execution_count": null,
   "metadata": {},
   "outputs": [],
   "source": [
    "'taina.canavarros@bancofibra.com.br'\n"
   ]
  },
  {
   "cell_type": "code",
   "execution_count": null,
   "metadata": {},
   "outputs": [],
   "source": [
    "for index, row in logs_emails.iterrows():\n",
    "    logs_emails.loc[index,'Fora_horas'] ='NaN'"
   ]
  },
  {
   "cell_type": "code",
   "execution_count": null,
   "metadata": {},
   "outputs": [],
   "source": [
    "logs_emails['hora'][90000]"
   ]
  },
  {
   "cell_type": "code",
   "execution_count": null,
   "metadata": {},
   "outputs": [],
   "source": [
    "logs_emails['Fora_horas'].value_counts()"
   ]
  },
  {
   "cell_type": "code",
   "execution_count": null,
   "metadata": {},
   "outputs": [],
   "source": [
    "relat_ponto"
   ]
  },
  {
   "cell_type": "code",
   "execution_count": null,
   "metadata": {},
   "outputs": [],
   "source": [
    "len(relat_ponto)"
   ]
  },
  {
   "cell_type": "code",
   "execution_count": null,
   "metadata": {},
   "outputs": [],
   "source": [
    "#Com parando dois valores de tabelas diferentes\n",
    "posicao = 0\n",
    "while posicao<len(relat_ponto):\n",
    "    for index, row in logs_emails.iterrows():\n",
    "        if logs_emails.loc[index,'sender_address'] == relat_ponto['email'][posicao] and logs_emails.loc[index,'origin_timestamp_utc'] == relat_ponto['Data'][posicao] and logs_emails.loc[index,'hora'] > relat_ponto['hora_saida'][posicao].time():\n",
    "            \n",
    "            relat_ponto['Fora_horas'][posicao] = 1    \n",
    "    posicao = posicao +1;"
   ]
  },
  {
   "cell_type": "code",
   "execution_count": null,
   "metadata": {},
   "outputs": [],
   "source": [
    "relat_ponto['Fora_horas'] == 1"
   ]
  },
  {
   "cell_type": "code",
   "execution_count": null,
   "metadata": {},
   "outputs": [],
   "source": []
  }
 ],
 "metadata": {
  "kernelspec": {
   "display_name": "Python 3",
   "language": "python",
   "name": "python3"
  },
  "language_info": {
   "codemirror_mode": {
    "name": "ipython",
    "version": 3
   },
   "file_extension": ".py",
   "mimetype": "text/x-python",
   "name": "python",
   "nbconvert_exporter": "python",
   "pygments_lexer": "ipython3",
   "version": "3.8.5"
  }
 },
 "nbformat": 4,
 "nbformat_minor": 4
}
